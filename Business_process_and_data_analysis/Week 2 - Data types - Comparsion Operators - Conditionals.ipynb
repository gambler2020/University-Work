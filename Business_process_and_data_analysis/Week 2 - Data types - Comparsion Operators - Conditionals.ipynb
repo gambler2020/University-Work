{
 "cells": [
  {
   "cell_type": "markdown",
   "id": "602ab4ba",
   "metadata": {},
   "source": [
    "# CIS7026 - Business Process and Data Analysis\n",
    "\n",
    "Prepared by Dr Muhammad Rahman"
   ]
  },
  {
   "cell_type": "markdown",
   "id": "aaf92272",
   "metadata": {},
   "source": [
    "# Week 2 Python Data types, Comparison Operators, Conditional statements"
   ]
  },
  {
   "cell_type": "markdown",
   "id": "0ee60f58",
   "metadata": {},
   "source": [
    "In the week 2 workshop, you will learn/revise the basic concepts of programming with Python such as data types, comparison operators and conditional statements. There are empty cells where you are required to do small tasks. Please, write below # line in those empty cells as # is used to comment code in Python. \n",
    "# Note\n",
    "This course does not require intensive programming in Python. Therefore, we will not go deep in the programming but rather do a crash course during workshop sessions. So that you may get familiar with the basic concepts of Python programming with hands-on practice. \n",
    "\n",
    "You can always learn more in your own time with the Online resources provided in the Python Programing section at Moodle."
   ]
  },
  {
   "cell_type": "markdown",
   "id": "d9dbb19b",
   "metadata": {},
   "source": [
    "# Data types \n",
    "\n",
    "In this week, we will cover different data types in the Python Language including lists and dictionaries. "
   ]
  },
  {
   "cell_type": "markdown",
   "id": "1d411489",
   "metadata": {},
   "source": [
    "# List \n",
    "\n",
    "Lists are mutable data type in Python, which means you can change the elements inside the list. Lists are the most important data type on Python.  \n",
    "This section we will learn: \n",
    "1. How to create list \n",
    "2. List Slicing and indexing\n",
    "3. Some list methods \n",
    "4. Nested lists \n",
    "\n",
    "Note: don't use 'list' word while assigning variable name."
   ]
  },
  {
   "cell_type": "markdown",
   "id": "7a3c43a3",
   "metadata": {},
   "source": [
    "# How to create list "
   ]
  },
  {
   "cell_type": "code",
   "execution_count": 1,
   "id": "bdf55d21",
   "metadata": {},
   "outputs": [],
   "source": [
    "a = [2, 4, 6]"
   ]
  },
  {
   "cell_type": "code",
   "execution_count": 2,
   "id": "85788f43",
   "metadata": {},
   "outputs": [
    {
     "data": {
      "text/plain": [
       "[2, 4, 6]"
      ]
     },
     "execution_count": 2,
     "metadata": {},
     "output_type": "execute_result"
    }
   ],
   "source": [
    "# check\n",
    "a"
   ]
  },
  {
   "cell_type": "code",
   "execution_count": 3,
   "id": "cbadbe63",
   "metadata": {},
   "outputs": [],
   "source": [
    "# create b list of containing 8,10,12"
   ]
  },
  {
   "cell_type": "code",
   "execution_count": 5,
   "id": "654f1e1c",
   "metadata": {},
   "outputs": [
    {
     "data": {
      "text/plain": [
       "[8, 10, 12]"
      ]
     },
     "execution_count": 5,
     "metadata": {},
     "output_type": "execute_result"
    }
   ],
   "source": [
    "#check b\n",
    "b=[8, 10, 12]\n",
    "b"
   ]
  },
  {
   "cell_type": "markdown",
   "id": "53dd2013",
   "metadata": {},
   "source": [
    "list can hold different object types. For example, numbers, strings, integers etc. Let's change this list 'a'"
   ]
  },
  {
   "cell_type": "code",
   "execution_count": 6,
   "id": "40641098",
   "metadata": {},
   "outputs": [
    {
     "data": {
      "text/plain": [
       "[2, 4, 8, 'string']"
      ]
     },
     "execution_count": 6,
     "metadata": {},
     "output_type": "execute_result"
    }
   ],
   "source": [
    "a = [2, 4, 8, \"string\"]\n",
    "a"
   ]
  },
  {
   "cell_type": "code",
   "execution_count": 7,
   "id": "ce4dd5e4",
   "metadata": {},
   "outputs": [],
   "source": [
    "# add element \"hello BA\" to b list that you have created\n",
    "b.append(\"hello BA\")"
   ]
  },
  {
   "cell_type": "code",
   "execution_count": 8,
   "id": "fdbfaf88",
   "metadata": {},
   "outputs": [
    {
     "data": {
      "text/plain": [
       "[8, 10, 12, 'hello BA']"
      ]
     },
     "execution_count": 8,
     "metadata": {},
     "output_type": "execute_result"
    }
   ],
   "source": [
    "b"
   ]
  },
  {
   "cell_type": "code",
   "execution_count": 9,
   "id": "1be4afc2",
   "metadata": {},
   "outputs": [
    {
     "data": {
      "text/plain": [
       "4"
      ]
     },
     "execution_count": 9,
     "metadata": {},
     "output_type": "execute_result"
    }
   ],
   "source": [
    "# check length of list \n",
    "len (a)"
   ]
  },
  {
   "cell_type": "code",
   "execution_count": 10,
   "id": "8ad15aa4",
   "metadata": {},
   "outputs": [
    {
     "data": {
      "text/plain": [
       "4"
      ]
     },
     "execution_count": 10,
     "metadata": {},
     "output_type": "execute_result"
    }
   ],
   "source": [
    "len(b)"
   ]
  },
  {
   "cell_type": "markdown",
   "id": "2fa5b192",
   "metadata": {},
   "source": [
    "This means that list a contains 4 elements and you have updated the list structure\n",
    "# Slicing and Indexing "
   ]
  },
  {
   "cell_type": "markdown",
   "id": "742588e6",
   "metadata": {},
   "source": [
    "Indexing a list means that you are trying to find elements based on the index number. In Python, list are zero indexed means that first element of the list will start with zero index. \n",
    "\n",
    "Slicing is similar like getting a slice from whole pizza, you can get a slice of list in Python"
   ]
  },
  {
   "cell_type": "code",
   "execution_count": 11,
   "id": "52ba6c90",
   "metadata": {},
   "outputs": [],
   "source": [
    "# let's start with a new list\n",
    "\n",
    "random_list = [1 , 2 , 3, \"pizza\", \"pasta\"]"
   ]
  },
  {
   "cell_type": "code",
   "execution_count": 12,
   "id": "b5117a5f",
   "metadata": {},
   "outputs": [
    {
     "data": {
      "text/plain": [
       "1"
      ]
     },
     "execution_count": 12,
     "metadata": {},
     "output_type": "execute_result"
    }
   ],
   "source": [
    "# get first element \n",
    "random_list[0]"
   ]
  },
  {
   "cell_type": "code",
   "execution_count": 13,
   "id": "c723f91e",
   "metadata": {},
   "outputs": [],
   "source": [
    "# get last element. Remember it is 0 indexed list to get the last element you need to substract 1 from length of the list "
   ]
  },
  {
   "cell_type": "code",
   "execution_count": 15,
   "id": "3ef0234d",
   "metadata": {},
   "outputs": [
    {
     "data": {
      "text/plain": [
       "'pasta'"
      ]
     },
     "execution_count": 15,
     "metadata": {},
     "output_type": "execute_result"
    }
   ],
   "source": [
    "random_list[-1]"
   ]
  },
  {
   "cell_type": "code",
   "execution_count": 16,
   "id": "a3c0f059",
   "metadata": {},
   "outputs": [
    {
     "data": {
      "text/plain": [
       "['pizza', 'pasta']"
      ]
     },
     "execution_count": 16,
     "metadata": {},
     "output_type": "execute_result"
    }
   ],
   "source": [
    "# now get a slice of this list. For example we want both pizza and pasta not the number. \n",
    "#When we use this operation it will start from the starting index upto last element\n",
    "random_list[3:]"
   ]
  },
  {
   "cell_type": "code",
   "execution_count": null,
   "id": "eb820cdd",
   "metadata": {},
   "outputs": [],
   "source": [
    "# slice list and get the number\n",
    "# note here you need to specify the ending index for your slice"
   ]
  },
  {
   "cell_type": "code",
   "execution_count": 17,
   "id": "4c3280d0",
   "metadata": {},
   "outputs": [
    {
     "data": {
      "text/plain": [
       "[1, 2, 3]"
      ]
     },
     "execution_count": 17,
     "metadata": {},
     "output_type": "execute_result"
    }
   ],
   "source": [
    "random_list[0:3]"
   ]
  },
  {
   "cell_type": "code",
   "execution_count": 18,
   "id": "401757cc",
   "metadata": {},
   "outputs": [
    {
     "data": {
      "text/plain": [
       "[1, 2, 3, 4, 5, 6]"
      ]
     },
     "execution_count": 18,
     "metadata": {},
     "output_type": "execute_result"
    }
   ],
   "source": [
    "# concatenate two list elements \n",
    "# a , b are two list while c is a superset of a and b \n",
    "a = [1, 2, 3]\n",
    "b = [4 ,5, 6]\n",
    "c = a + b \n",
    "c"
   ]
  },
  {
   "cell_type": "code",
   "execution_count": null,
   "id": "ae483502",
   "metadata": {},
   "outputs": [],
   "source": [
    "# create two list and concatenate them \n",
    "# list1 elements are soap, shampoo\n",
    "# list2 elements are bread, milk, eggs \n",
    "# list3 is your shopping list that contains all elements of list1 and list2 "
   ]
  },
  {
   "cell_type": "code",
   "execution_count": 19,
   "id": "1d15c9a7",
   "metadata": {},
   "outputs": [
    {
     "data": {
      "text/plain": [
       "['soap', 'shampoo', 'bread', 'milk', 'eggs']"
      ]
     },
     "execution_count": 19,
     "metadata": {},
     "output_type": "execute_result"
    }
   ],
   "source": [
    "list1=[\"soap\", \"shampoo\"]\n",
    "list2=[\"bread\", \"milk\",\"eggs\"]\n",
    "list3=list1+list2\n",
    "list3"
   ]
  },
  {
   "cell_type": "markdown",
   "id": "b0a551ed",
   "metadata": {},
   "source": [
    "Basic List Methods"
   ]
  },
  {
   "cell_type": "code",
   "execution_count": 20,
   "id": "625c67f9",
   "metadata": {},
   "outputs": [],
   "source": [
    "# Create a new list\n",
    "a = [1,2,3]"
   ]
  },
  {
   "cell_type": "markdown",
   "id": "30209860",
   "metadata": {},
   "source": [
    "Use the **append** method to permanently add an item to the end"
   ]
  },
  {
   "cell_type": "code",
   "execution_count": 21,
   "id": "13c1bd05",
   "metadata": {},
   "outputs": [],
   "source": [
    "a.append(\"last item\")"
   ]
  },
  {
   "cell_type": "code",
   "execution_count": 22,
   "id": "af7ccdcf",
   "metadata": {},
   "outputs": [
    {
     "data": {
      "text/plain": [
       "[1, 2, 3, 'last item']"
      ]
     },
     "execution_count": 22,
     "metadata": {},
     "output_type": "execute_result"
    }
   ],
   "source": [
    "#check \n",
    "a"
   ]
  },
  {
   "cell_type": "markdown",
   "id": "ef4a436e",
   "metadata": {},
   "source": [
    "Remove item from the list using *pop* method"
   ]
  },
  {
   "cell_type": "code",
   "execution_count": 23,
   "id": "11bfc056",
   "metadata": {},
   "outputs": [
    {
     "data": {
      "text/plain": [
       "'last item'"
      ]
     },
     "execution_count": 23,
     "metadata": {},
     "output_type": "execute_result"
    }
   ],
   "source": [
    "#you need to provide index \n",
    "# -1 is index for last item that is pythonic way to code\n",
    "a.pop(-1)"
   ]
  },
  {
   "cell_type": "code",
   "execution_count": 24,
   "id": "04148d9c",
   "metadata": {},
   "outputs": [
    {
     "data": {
      "text/plain": [
       "[1, 2, 3]"
      ]
     },
     "execution_count": 24,
     "metadata": {},
     "output_type": "execute_result"
    }
   ],
   "source": [
    "#check\n",
    "a"
   ]
  },
  {
   "cell_type": "markdown",
   "id": "76d12ccb",
   "metadata": {},
   "source": [
    "lets sort another array with random elements in ascending order \n"
   ]
  },
  {
   "cell_type": "code",
   "execution_count": 25,
   "id": "5ce43405",
   "metadata": {},
   "outputs": [
    {
     "data": {
      "text/plain": [
       "[99, 44, 66, 33, 22]"
      ]
     },
     "execution_count": 25,
     "metadata": {},
     "output_type": "execute_result"
    }
   ],
   "source": [
    "ran_list = [99,44,66,33,22]\n",
    "ran_list"
   ]
  },
  {
   "cell_type": "code",
   "execution_count": 26,
   "id": "7efe0ee5",
   "metadata": {},
   "outputs": [],
   "source": [
    "ran_list.sort()"
   ]
  },
  {
   "cell_type": "code",
   "execution_count": 27,
   "id": "4705173e",
   "metadata": {},
   "outputs": [
    {
     "data": {
      "text/plain": [
       "[22, 33, 44, 66, 99]"
      ]
     },
     "execution_count": 27,
     "metadata": {},
     "output_type": "execute_result"
    }
   ],
   "source": [
    "ran_list"
   ]
  },
  {
   "cell_type": "code",
   "execution_count": 28,
   "id": "22e5c0e8",
   "metadata": {},
   "outputs": [],
   "source": [
    "# use reverse() method to sort in descending order"
   ]
  },
  {
   "cell_type": "code",
   "execution_count": 33,
   "id": "9fa1d1ec",
   "metadata": {},
   "outputs": [
    {
     "data": {
      "text/plain": [
       "[22, 33, 44, 66, 99]"
      ]
     },
     "execution_count": 33,
     "metadata": {},
     "output_type": "execute_result"
    }
   ],
   "source": [
    "ran_list.reverse()\n",
    "ran_list"
   ]
  },
  {
   "cell_type": "markdown",
   "id": "5d524224",
   "metadata": {},
   "source": [
    "# Nesting Lists\n",
    "a list or multiple list inside a list"
   ]
  },
  {
   "cell_type": "code",
   "execution_count": 34,
   "id": "df9088b7",
   "metadata": {},
   "outputs": [],
   "source": [
    "l1 = [1, 2,3]\n",
    "l2 = [4, 5, 6]\n",
    "l3 = [7, 8,9]\n",
    "l4 = [l1 , l2, l3]"
   ]
  },
  {
   "cell_type": "code",
   "execution_count": 35,
   "id": "a7718def",
   "metadata": {},
   "outputs": [
    {
     "data": {
      "text/plain": [
       "[[1, 2, 3], [4, 5, 6], [7, 8, 9]]"
      ]
     },
     "execution_count": 35,
     "metadata": {},
     "output_type": "execute_result"
    }
   ],
   "source": [
    "#check \n",
    "l4"
   ]
  },
  {
   "cell_type": "code",
   "execution_count": 37,
   "id": "0cdcc06d",
   "metadata": {},
   "outputs": [
    {
     "data": {
      "text/plain": [
       "[[2, 4, 6], [8, 10, 12], [14, 16, 20]]"
      ]
     },
     "execution_count": 37,
     "metadata": {},
     "output_type": "execute_result"
    }
   ],
   "source": [
    "# create a nested list l4 of following lists\n",
    "l1= [2 ,4, 6]\n",
    "l2 = [8, 10, 12]\n",
    "l3 =[14, 16, 20]\n",
    "l4=[l1, l2, l3]\n",
    "l4"
   ]
  },
  {
   "cell_type": "markdown",
   "id": "7f96de6e",
   "metadata": {},
   "source": [
    "# Dictionaries\n",
    "\n",
    "*Mapping* is important concept in programming language, it is exactly like finding a location on a map. You know the name of the location and you try to find what's in there. Think of dictionaries as these are maps!\n",
    "\n",
    "In this section, we will learn \n",
    "1. Creating dictionary\n",
    "2. Accessing dictionary \n",
    "3. Basic methods for dictionary \n"
   ]
  },
  {
   "cell_type": "markdown",
   "id": "78055752",
   "metadata": {},
   "source": [
    "# Creating and accessing dictionary"
   ]
  },
  {
   "cell_type": "code",
   "execution_count": 38,
   "id": "c8a91e5a",
   "metadata": {},
   "outputs": [],
   "source": [
    "# create a dictionary with {} and : to signify a key and a value\n",
    "my_dict1 = {'key1':'value1','key2':'value2'}"
   ]
  },
  {
   "cell_type": "code",
   "execution_count": 39,
   "id": "e1f72e1e",
   "metadata": {},
   "outputs": [
    {
     "data": {
      "text/plain": [
       "'value2'"
      ]
     },
     "execution_count": 39,
     "metadata": {},
     "output_type": "execute_result"
    }
   ],
   "source": [
    "# unlike lists in dictionaries you will use key to get the value \n",
    "my_dict1['key2']"
   ]
  },
  {
   "cell_type": "code",
   "execution_count": null,
   "id": "de18582a",
   "metadata": {},
   "outputs": [],
   "source": []
  },
  {
   "cell_type": "markdown",
   "id": "b6a0572a",
   "metadata": {},
   "source": [
    " storing lists and other elements within a dictionary and accessing them"
   ]
  },
  {
   "cell_type": "code",
   "execution_count": 44,
   "id": "645668f0",
   "metadata": {},
   "outputs": [],
   "source": [
    "dict2 = {'key1':123,'key2':[12,23,33],'key3':['item0','item1','item2']}"
   ]
  },
  {
   "cell_type": "code",
   "execution_count": 45,
   "id": "3da4d222",
   "metadata": {},
   "outputs": [
    {
     "data": {
      "text/plain": [
       "['item0', 'item1', 'item2']"
      ]
     },
     "execution_count": 45,
     "metadata": {},
     "output_type": "execute_result"
    }
   ],
   "source": [
    "# getting the last element using key3\n",
    "dict2['key3']"
   ]
  },
  {
   "cell_type": "code",
   "execution_count": 47,
   "id": "a98afbf4",
   "metadata": {},
   "outputs": [
    {
     "data": {
      "text/plain": [
       "'item0'"
      ]
     },
     "execution_count": 47,
     "metadata": {},
     "output_type": "execute_result"
    }
   ],
   "source": [
    "# get first item of key3 'item0' \n",
    "dict2['key3'][0]"
   ]
  },
  {
   "cell_type": "code",
   "execution_count": 51,
   "id": "d102e74f",
   "metadata": {},
   "outputs": [
    {
     "data": {
      "text/plain": [
       "'item2'"
      ]
     },
     "execution_count": 51,
     "metadata": {},
     "output_type": "execute_result"
    }
   ],
   "source": [
    "dict2['key3'][-1]"
   ]
  },
  {
   "cell_type": "markdown",
   "id": "f4a1a7f2",
   "metadata": {},
   "source": [
    "Here we have used indexing concept of list with dictionaries "
   ]
  },
  {
   "cell_type": "markdown",
   "id": "24b02b81",
   "metadata": {},
   "source": [
    "**Now your turn** \n",
    "create a dictionary called shoping with the following keys and values \n",
    "\n",
    "key: dairy   value: milk, bread\n",
    " \n",
    "key: clothes  value: shirt, shoes\n",
    " \n",
    "key: fruits   value: apple, banana, oranges\n",
    " \n",
    " Once created try to access oranges from the created dictionary\n"
   ]
  },
  {
   "cell_type": "code",
   "execution_count": 53,
   "id": "68581679",
   "metadata": {},
   "outputs": [
    {
     "data": {
      "text/plain": [
       "'oranges'"
      ]
     },
     "execution_count": 53,
     "metadata": {},
     "output_type": "execute_result"
    }
   ],
   "source": [
    "shoping={\"dairy value\": [\"milk\", \"bread\"], \"clothes value\": [\"shirt\", \"shoes\"], \"fruits value\": [\"apple\", \"banana\", \"oranges\"]}\n",
    "shoping[\"fruits value\"][-1]"
   ]
  },
  {
   "cell_type": "markdown",
   "id": "bf7fb8fb",
   "metadata": {},
   "source": [
    "# Dictionary Methods"
   ]
  },
  {
   "cell_type": "code",
   "execution_count": 54,
   "id": "3ec46e07",
   "metadata": {},
   "outputs": [],
   "source": [
    "# Create\n",
    "dict4 = {'key1':1,'key2':2,'key3':3}"
   ]
  },
  {
   "cell_type": "code",
   "execution_count": 55,
   "id": "96a190ac",
   "metadata": {},
   "outputs": [
    {
     "data": {
      "text/plain": [
       "dict_keys(['key1', 'key2', 'key3'])"
      ]
     },
     "execution_count": 55,
     "metadata": {},
     "output_type": "execute_result"
    }
   ],
   "source": [
    "# Method to get keys \n",
    "dict4.keys()"
   ]
  },
  {
   "cell_type": "code",
   "execution_count": 56,
   "id": "7b2c288f",
   "metadata": {},
   "outputs": [
    {
     "data": {
      "text/plain": [
       "dict_values([1, 2, 3])"
      ]
     },
     "execution_count": 56,
     "metadata": {},
     "output_type": "execute_result"
    }
   ],
   "source": [
    "# Method to get all values\n",
    "dict4.values()"
   ]
  },
  {
   "cell_type": "code",
   "execution_count": 57,
   "id": "fcf869f4",
   "metadata": {},
   "outputs": [
    {
     "data": {
      "text/plain": [
       "dict_items([('key1', 1), ('key2', 2), ('key3', 3)])"
      ]
     },
     "execution_count": 57,
     "metadata": {},
     "output_type": "execute_result"
    }
   ],
   "source": [
    "# get all items\n",
    "dict4.items()"
   ]
  },
  {
   "cell_type": "markdown",
   "id": "7753902f",
   "metadata": {},
   "source": [
    "# Comparison Operators \n",
    "\n",
    "These operators performs the comparison operations in Python and provide Boolean Output (True or False)\n",
    "\n",
    "First we'll present a table of the comparison operators and then work through some examples:\n",
    "\n",
    "<h2> Table of Comparison Operators </h2><p>  In the table below, a=2 and b=6.</p>\n",
    "\n",
    "<table class=\"table table-bordered\">\n",
    "<tr>\n",
    "<th style=\"width:10%\">Operator</th><th style=\"width:45%\">Description</th><th>Example</th>\n",
    "</tr>\n",
    "<tr>\n",
    "<td>==</td>\n",
    "<td>If the values of two operands are equal, then the condition becomes true.</td>\n",
    "<td> (a == b) is not true.</td>\n",
    "</tr>\n",
    "<tr>\n",
    "<td>!=</td>\n",
    "<td>If values of two operands are not equal, then condition becomes true.</td>\n",
    "<td>(a != b) is true</td>\n",
    "</tr>\n",
    "<tr>\n",
    "<td>&gt;</td>\n",
    "<td>If the value of left operand is greater than the value of right operand, then condition becomes true.</td>\n",
    "<td> (a &gt; b) is not true.</td>\n",
    "</tr>\n",
    "<tr>\n",
    "<td>&lt;</td>\n",
    "<td>If the value of left operand is less than the value of right operand, then condition becomes true.</td>\n",
    "<td> (a &lt; b) is true.</td>\n",
    "</tr>\n",
    "<tr>\n",
    "<td>&gt;=</td>\n",
    "<td>If the value of left operand is greater than or equal to the value of right operand, then condition becomes true.</td>\n",
    "<td> (a &gt;= b) is not true. </td>\n",
    "</tr>\n",
    "<tr>\n",
    "<td>&lt;=</td>\n",
    "<td>If the value of left operand is less than or equal to the value of right operand, then condition becomes true.</td>\n",
    "<td> (a &lt;= b) is true. </td>\n",
    "</tr>\n",
    "</table>"
   ]
  },
  {
   "cell_type": "code",
   "execution_count": 58,
   "id": "cf7d9352",
   "metadata": {},
   "outputs": [],
   "source": [
    "a = 4 \n",
    "b = 6\n"
   ]
  },
  {
   "cell_type": "markdown",
   "id": "0d1e7278",
   "metadata": {},
   "source": [
    "#### Equal "
   ]
  },
  {
   "cell_type": "code",
   "execution_count": 59,
   "id": "a3606445",
   "metadata": {},
   "outputs": [
    {
     "data": {
      "text/plain": [
       "True"
      ]
     },
     "execution_count": 59,
     "metadata": {},
     "output_type": "execute_result"
    }
   ],
   "source": [
    "a == a "
   ]
  },
  {
   "cell_type": "code",
   "execution_count": 60,
   "id": "f762a1c6",
   "metadata": {},
   "outputs": [],
   "source": [
    "# a == b "
   ]
  },
  {
   "cell_type": "markdown",
   "id": "2ddc4f24",
   "metadata": {},
   "source": [
    "#### Not Equal "
   ]
  },
  {
   "cell_type": "code",
   "execution_count": 61,
   "id": "59b9cc96",
   "metadata": {},
   "outputs": [
    {
     "data": {
      "text/plain": [
       "False"
      ]
     },
     "execution_count": 61,
     "metadata": {},
     "output_type": "execute_result"
    }
   ],
   "source": [
    "a != a"
   ]
  },
  {
   "cell_type": "code",
   "execution_count": 62,
   "id": "069c997d",
   "metadata": {},
   "outputs": [],
   "source": [
    "# a != b "
   ]
  },
  {
   "cell_type": "markdown",
   "id": "0fba141e",
   "metadata": {},
   "source": [
    "#### Greater Than"
   ]
  },
  {
   "cell_type": "code",
   "execution_count": 63,
   "id": "22eaa5e9",
   "metadata": {},
   "outputs": [
    {
     "data": {
      "text/plain": [
       "False"
      ]
     },
     "execution_count": 63,
     "metadata": {},
     "output_type": "execute_result"
    }
   ],
   "source": [
    "a > b "
   ]
  },
  {
   "cell_type": "code",
   "execution_count": 64,
   "id": "d7ebc7e7",
   "metadata": {},
   "outputs": [],
   "source": [
    "# b > a"
   ]
  },
  {
   "cell_type": "markdown",
   "id": "773b0724",
   "metadata": {},
   "source": [
    "#### Less Than"
   ]
  },
  {
   "cell_type": "code",
   "execution_count": 65,
   "id": "c1e503cc",
   "metadata": {},
   "outputs": [
    {
     "data": {
      "text/plain": [
       "True"
      ]
     },
     "execution_count": 65,
     "metadata": {},
     "output_type": "execute_result"
    }
   ],
   "source": [
    "a < b"
   ]
  },
  {
   "cell_type": "code",
   "execution_count": 66,
   "id": "965d13fe",
   "metadata": {},
   "outputs": [],
   "source": [
    "# b < a"
   ]
  },
  {
   "cell_type": "markdown",
   "id": "c2d78cad",
   "metadata": {},
   "source": [
    "#### Greater Than or Equal to"
   ]
  },
  {
   "cell_type": "code",
   "execution_count": 67,
   "id": "11664fad",
   "metadata": {},
   "outputs": [
    {
     "data": {
      "text/plain": [
       "False"
      ]
     },
     "execution_count": 67,
     "metadata": {},
     "output_type": "execute_result"
    }
   ],
   "source": [
    "a >= b"
   ]
  },
  {
   "cell_type": "code",
   "execution_count": 68,
   "id": "10dfe973",
   "metadata": {},
   "outputs": [],
   "source": [
    "# b>=a"
   ]
  },
  {
   "cell_type": "markdown",
   "id": "c9bcac14",
   "metadata": {},
   "source": [
    "#### Less than or Equal to"
   ]
  },
  {
   "cell_type": "code",
   "execution_count": 69,
   "id": "1ea7cfee",
   "metadata": {},
   "outputs": [
    {
     "data": {
      "text/plain": [
       "True"
      ]
     },
     "execution_count": 69,
     "metadata": {},
     "output_type": "execute_result"
    }
   ],
   "source": [
    "a <=b "
   ]
  },
  {
   "cell_type": "code",
   "execution_count": 70,
   "id": "f0263581",
   "metadata": {},
   "outputs": [],
   "source": [
    "# b<=a"
   ]
  },
  {
   "cell_type": "markdown",
   "id": "f0cfeafd",
   "metadata": {},
   "source": [
    "#### chained operations\n"
   ]
  },
  {
   "cell_type": "code",
   "execution_count": 71,
   "id": "d36f741f",
   "metadata": {},
   "outputs": [
    {
     "data": {
      "text/plain": [
       "True"
      ]
     },
     "execution_count": 71,
     "metadata": {},
     "output_type": "execute_result"
    }
   ],
   "source": [
    "a < b < 10"
   ]
  },
  {
   "cell_type": "code",
   "execution_count": 72,
   "id": "a7ed3cd8",
   "metadata": {},
   "outputs": [
    {
     "data": {
      "text/plain": [
       "True"
      ]
     },
     "execution_count": 72,
     "metadata": {},
     "output_type": "execute_result"
    }
   ],
   "source": [
    "a<b and b<10"
   ]
  },
  {
   "cell_type": "code",
   "execution_count": 73,
   "id": "c855cf74",
   "metadata": {},
   "outputs": [
    {
     "data": {
      "text/plain": [
       "True"
      ]
     },
     "execution_count": 73,
     "metadata": {},
     "output_type": "execute_result"
    }
   ],
   "source": [
    "a<b or b>10"
   ]
  },
  {
   "cell_type": "markdown",
   "id": "ed59fcc1",
   "metadata": {},
   "source": [
    "# if, elif, else Statements\n",
    "\n",
    "Conditional Statements in Python allow computer to perform task when the condition is true \n",
    "\n",
    "<code>if</code> \n",
    "\n",
    "Verbally, we are telling the computer\n",
    "\n",
    "\"Hey if this condition is True, perform this action\"\n",
    "\n",
    "We can then expand the idea further with <code>elif</code> and <code>else</code> statements, which allow us to tell the computer:\n",
    "\n",
    "\"Hey if this case happens, perform some action. Else, if another case happens, perform some other action. Else, if *none* of the above cases happened, perform this action.\"\n",
    "\n",
    "Let's go ahead and look at the syntax format for <code>if</code> statements to get a better idea of this:\n",
    "\n",
    "    if condition1:\n",
    "        perform action1\n",
    "    elif condition2:\n",
    "        perform action2\n",
    "    else: \n",
    "        perform action3"
   ]
  },
  {
   "cell_type": "code",
   "execution_count": 74,
   "id": "f34f47c7",
   "metadata": {},
   "outputs": [
    {
     "name": "stdout",
     "output_type": "stream",
     "text": [
      "It is true!\n"
     ]
    }
   ],
   "source": [
    "if True:\n",
    "    print('It is true!')"
   ]
  },
  {
   "cell_type": "code",
   "execution_count": 75,
   "id": "9a843772",
   "metadata": {},
   "outputs": [
    {
     "name": "stdout",
     "output_type": "stream",
     "text": [
      "This is False\n"
     ]
    }
   ],
   "source": [
    "x = (2>3)\n",
    "\n",
    "if x:\n",
    "    print('x is True!')\n",
    "else:\n",
    "    print('This is False')"
   ]
  },
  {
   "cell_type": "code",
   "execution_count": null,
   "id": "2eeb77c8",
   "metadata": {},
   "outputs": [],
   "source": [
    "# input command is used for getting value from user while program is running \n",
    "y = int(input(\"Please tell me if you have found a business for your final assignment. Enter yes or no\"))\n",
    "if y == \"yes\":\n",
    "    print(\"Great work! keep it up\")\n",
    "elif y==\"no\":\n",
    "    print(\"It's never too late. Please find a business for your final assignment\")\n",
    "else: \n",
    "    print(\"I am speechless! Please enter yes or no in lowercase\")"
   ]
  },
  {
   "cell_type": "markdown",
   "id": "e476b197",
   "metadata": {},
   "source": [
    "#### Now your turn"
   ]
  },
  {
   "cell_type": "markdown",
   "id": "2a6ae161",
   "metadata": {},
   "source": [
    "Write the program below which ask to enter marks and can print grades for the student based on the marks:\n",
    "    \n",
    "    above 70, grade A\n",
    "    from 70 to 60, grade B\n",
    "    from 60 to 50, grade C\n",
    "    below 50, grade F"
   ]
  },
  {
   "cell_type": "code",
   "execution_count": null,
   "id": "beaea18b",
   "metadata": {},
   "outputs": [],
   "source": [
    "A=int(input(\"Enetr your marks: \"))\n",
    "if A>=70:\n",
    "    print(\"grade A\")\n",
    "elif A>=60 and A<70:\n",
    "    print(\"grade B\")\n",
    "elif A>=50 and A<60:\n",
    "    print(\"grade C\")\n",
    "else:\n",
    "    print(\"grade F\")"
   ]
  },
  {
   "cell_type": "code",
   "execution_count": null,
   "id": "9298d83c",
   "metadata": {},
   "outputs": [],
   "source": []
  },
  {
   "cell_type": "code",
   "execution_count": null,
   "id": "0c1db678",
   "metadata": {},
   "outputs": [],
   "source": []
  }
 ],
 "metadata": {
  "kernelspec": {
   "display_name": "Python 3 (ipykernel)",
   "language": "python",
   "name": "python3"
  },
  "language_info": {
   "codemirror_mode": {
    "name": "ipython",
    "version": 3
   },
   "file_extension": ".py",
   "mimetype": "text/x-python",
   "name": "python",
   "nbconvert_exporter": "python",
   "pygments_lexer": "ipython3",
   "version": "3.9.7"
  }
 },
 "nbformat": 4,
 "nbformat_minor": 5
}
