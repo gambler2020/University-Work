{
 "cells": [
  {
   "cell_type": "markdown",
   "id": "a27d7cfd",
   "metadata": {},
   "source": [
    "# CIS7026 - Business Process and Data Analysis\n"
   ]
  },
  {
   "cell_type": "markdown",
   "id": "1f22580c",
   "metadata": {},
   "source": [
    "# Week 3 Python loop statements and functions"
   ]
  },
  {
   "cell_type": "markdown",
   "id": "478e648e",
   "metadata": {},
   "source": [
    "### In the week 3 workshop, you will learn/revise the basic concepts of programming with Python such as loops and functions statements. There are empty cells where you are required to do small tasks. Please, write below # line in those empty cells as # is used to comment code in Python. \n",
    "# Note\n",
    "This course does not require intensive programming in Python. Therefore, we will not go deep in the programming but rather do a crash course during workshop sessions. So that you may get familiar with the basic concepts of Python programming with hands-on practice. \n",
    "\n",
    "You can always learn more in your own time with the Online resources provided in the Python Programing section at Moodle."
   ]
  },
  {
   "cell_type": "markdown",
   "id": "8c64739a",
   "metadata": {},
   "source": [
    "# for Loops\n",
    "\n",
    "A <code>for</code> loop acts as an iterator in Python; it goes through items that are in a *sequence* or any other iterable item. Objects that we've learned about that we can iterate over include strings, lists, tuples, and even built-in iterables for dictionaries, such as keys or values.\n",
    "\n",
    "We've already seen the <code>for</code> statement a little bit in past lectures but now let's formalize our understanding.\n",
    "\n",
    "Here's the general format for a <code>for</code> loop in Python:\n",
    "\n",
    "    for item in object:\n",
    "        statements to do stuff"
   ]
  },
  {
   "cell_type": "markdown",
   "id": "b0a64bf9",
   "metadata": {},
   "source": [
    "## Example 1\n",
    "Create a list of integers "
   ]
  },
  {
   "cell_type": "code",
   "execution_count": 1,
   "id": "664a72d0",
   "metadata": {},
   "outputs": [],
   "source": [
    "# create a list of integers from 1-10\n",
    "# create empty list\n",
    "list1 = []\n",
    "for x in range(1,11): # range is a special function in python to generate a range of numbers, here 1 is inclusive and 11 is exclusive\n",
    "    list1.append(x)"
   ]
  },
  {
   "cell_type": "code",
   "execution_count": 2,
   "id": "daa3f196",
   "metadata": {},
   "outputs": [
    {
     "data": {
      "text/plain": [
       "[1, 2, 3, 4, 5, 6, 7, 8, 9, 10]"
      ]
     },
     "execution_count": 2,
     "metadata": {},
     "output_type": "execute_result"
    }
   ],
   "source": [
    "#check list\n",
    "list1"
   ]
  },
  {
   "cell_type": "markdown",
   "id": "a8db71ad",
   "metadata": {},
   "source": [
    "## Example 2\n",
    "Iterating through a list"
   ]
  },
  {
   "cell_type": "code",
   "execution_count": 3,
   "id": "50ad05a1",
   "metadata": {},
   "outputs": [
    {
     "name": "stdout",
     "output_type": "stream",
     "text": [
      "1\n",
      "2\n",
      "3\n",
      "4\n",
      "5\n",
      "6\n",
      "7\n",
      "8\n",
      "9\n",
      "10\n"
     ]
    }
   ],
   "source": [
    "# printing list elements 1 by 1\n",
    "for x in list1:\n",
    "    print(x)"
   ]
  },
  {
   "cell_type": "markdown",
   "id": "1a26e5f4",
   "metadata": {},
   "source": [
    "## Example 3\n",
    "Finding odd number in the list "
   ]
  },
  {
   "cell_type": "code",
   "execution_count": 4,
   "id": "a820bcb9",
   "metadata": {},
   "outputs": [
    {
     "name": "stdout",
     "output_type": "stream",
     "text": [
      "1\n",
      "3\n",
      "5\n",
      "7\n",
      "9\n"
     ]
    }
   ],
   "source": [
    "for x in list1:\n",
    "    if x%2!=0:\n",
    "        print(x)"
   ]
  },
  {
   "cell_type": "markdown",
   "id": "a4162206",
   "metadata": {},
   "source": [
    "## Example 4\n",
    "find sum of elements in list"
   ]
  },
  {
   "cell_type": "code",
   "execution_count": 5,
   "id": "a38f196b",
   "metadata": {},
   "outputs": [],
   "source": [
    "total_sum = 0\n",
    "\n",
    "for x in list1:\n",
    "    total_sum = total_sum + x"
   ]
  },
  {
   "cell_type": "code",
   "execution_count": 6,
   "id": "6e6c3656",
   "metadata": {},
   "outputs": [
    {
     "name": "stdout",
     "output_type": "stream",
     "text": [
      "55\n"
     ]
    }
   ],
   "source": [
    "print(total_sum)"
   ]
  },
  {
   "cell_type": "markdown",
   "id": "266b46f6",
   "metadata": {},
   "source": [
    "## Task for you\n",
    "Try to find factorial of 10 using 'for' loop. (Hint it works similar to Example 4)"
   ]
  },
  {
   "cell_type": "code",
   "execution_count": 11,
   "id": "9c18e325",
   "metadata": {},
   "outputs": [
    {
     "name": "stdout",
     "output_type": "stream",
     "text": [
      "factorial of 10 = 3628800\n"
     ]
    }
   ],
   "source": [
    "count=1\n",
    "for i in range(1, 11):\n",
    "    count=count*i\n",
    "print(\"factorial of 10 =\", count)"
   ]
  },
  {
   "cell_type": "markdown",
   "id": "7bdf2ac9",
   "metadata": {},
   "source": [
    "# while Loops\n",
    "\n",
    "The <code>while</code> statement in Python is one of most general ways to perform iteration. A <code>while</code> statement will repeatedly execute a single statement or group of statements as long as the condition is true. The reason it is called a 'loop' is because the code statements are looped through over and over again until the condition is no longer met.\n",
    "\n",
    "The general format of a while loop is:\n",
    "\n",
    "    while test:\n",
    "        code statements\n",
    "    else:\n",
    "        final code statements"
   ]
  },
  {
   "cell_type": "markdown",
   "id": "144993db",
   "metadata": {},
   "source": [
    "## Example 1"
   ]
  },
  {
   "cell_type": "code",
   "execution_count": 12,
   "id": "bffb54be",
   "metadata": {},
   "outputs": [
    {
     "name": "stdout",
     "output_type": "stream",
     "text": [
      "0\n",
      "1\n",
      "2\n",
      "3\n",
      "4\n",
      "5\n"
     ]
    }
   ],
   "source": [
    "x = 0\n",
    "\n",
    "while x<=5:\n",
    "    print(x)\n",
    "    #increment x in each iteration\n",
    "    x=x+1"
   ]
  },
  {
   "cell_type": "markdown",
   "id": "e0dd82ff",
   "metadata": {},
   "source": [
    "while loop keeps going until condition is True (here x<=5). Once the condition is False, loop is terminated\n",
    "\n",
    "## Example 2\n",
    "Let's use else with while loop. Finding factorial of 5"
   ]
  },
  {
   "cell_type": "code",
   "execution_count": 13,
   "id": "e5f8813e",
   "metadata": {},
   "outputs": [
    {
     "name": "stdout",
     "output_type": "stream",
     "text": [
      "Finding factorial\n",
      "Finding factorial\n",
      "Finding factorial\n",
      "Finding factorial\n",
      "Finding factorial\n",
      "Factorial of 5 is 120\n"
     ]
    }
   ],
   "source": [
    "x = 1\n",
    "factorial = 1\n",
    "while x <=5:\n",
    "    factorial = factorial * x\n",
    "    print (\"Finding factorial\")\n",
    "    #don't forget to update the condition, otherwise it will last forever\n",
    "    x = x+1\n",
    "else:\n",
    "    print(\"Factorial of 5 is {}\".format(factorial))"
   ]
  },
  {
   "cell_type": "markdown",
   "id": "c0c16b63",
   "metadata": {},
   "source": [
    "## Functions \n",
    "A function is a useful to set of statements so they can be run more than once. We can specify parameters that can serve as inputs to the functions.\n",
    "\n",
    "Functions allow us to not have to repeatedly write the same code again and again. For example print() is a function and the input that we provide in it, will be printed\n",
    "\n",
    "Functions will be one of most basic levels of reusing code in Python"
   ]
  },
  {
   "cell_type": "markdown",
   "id": "453601af",
   "metadata": {},
   "source": [
    "## Using def keyword\n",
    "\n",
    "How to build a function"
   ]
  },
  {
   "cell_type": "code",
   "execution_count": 27,
   "id": "76e0f08a",
   "metadata": {},
   "outputs": [
    {
     "name": "stdout",
     "output_type": "stream",
     "text": [
      "Enter your marks in Business and data analysis module: 35\n",
      "Enter your marks in Technology project management: 40\n",
      "Unfortunately, you are fail\n"
     ]
    }
   ],
   "source": [
    "def function_name(arg1,arg2):\n",
    "    '''\n",
    "    This is where the function's Document String (docstring) goes.\n",
    "    When you call help() on your function it will be printed out.\n",
    "    '''\n",
    "    if arg1<50 or arg2<50:\n",
    "        print(\"Unfortunately, you are fail\")\n",
    "    else:\n",
    "        percentage=((arg1+arg2)/200)*100\n",
    "        print(\"Your overall percentage is : {}\".format(round(percentage,2)))\n",
    "\n",
    "x=int(input(\"Enter your marks in Business and data analysis module: \"))\n",
    "y=int(input(\"Enter your marks in Technology project management: \"))\n",
    "function_name(x, y)"
   ]
  },
  {
   "cell_type": "markdown",
   "id": "1ec90270",
   "metadata": {},
   "source": [
    "#### Example 1\n",
    "simple function that prints hello world"
   ]
  },
  {
   "cell_type": "code",
   "execution_count": 14,
   "id": "50bd91fd",
   "metadata": {},
   "outputs": [],
   "source": [
    "def hello_world():\n",
    "    print(\"Hello World!\")"
   ]
  },
  {
   "cell_type": "code",
   "execution_count": 15,
   "id": "594c5266",
   "metadata": {},
   "outputs": [
    {
     "name": "stdout",
     "output_type": "stream",
     "text": [
      "Hello World!\n"
     ]
    }
   ],
   "source": [
    "# call this functions\n",
    "hello_world()"
   ]
  },
  {
   "cell_type": "markdown",
   "id": "31362597",
   "metadata": {},
   "source": [
    "In the example above we didn't define input variables.\n",
    "#### Accepting parameters (arguments)\n",
    "let's extend this example to create another function that gets user's age as input and print it \n",
    "#### Example 2"
   ]
  },
  {
   "cell_type": "code",
   "execution_count": 28,
   "id": "10636c56",
   "metadata": {},
   "outputs": [],
   "source": [
    "def print_age(age):\n",
    "    print(\"You are {}\".format(age))"
   ]
  },
  {
   "cell_type": "code",
   "execution_count": 29,
   "id": "4eca1cbc",
   "metadata": {},
   "outputs": [
    {
     "name": "stdout",
     "output_type": "stream",
     "text": [
      "Please, enter your age 26\n",
      "You are 26\n"
     ]
    }
   ],
   "source": [
    "#check \n",
    "# get age from user\n",
    "age = input(\"Please, enter your age \")\n",
    "print_age(age)"
   ]
  },
  {
   "cell_type": "markdown",
   "id": "0dc26034",
   "metadata": {},
   "source": [
    "#### Using return\n",
    "So far we've only seen print() used, but if we actually want to save the resulting variable we need to use the **return** keyword.\n",
    "\n",
    "a function to *return* a result that can then be stored as a variable, or used in whatever manner a user wants.\n",
    "\n",
    "#### Example 3: Addition function\n",
    "create a function that gets two input arguments/variables and return sum "
   ]
  },
  {
   "cell_type": "code",
   "execution_count": 30,
   "id": "b29d42d9",
   "metadata": {},
   "outputs": [],
   "source": [
    "def add(a,b):\n",
    "    return a+b"
   ]
  },
  {
   "cell_type": "code",
   "execution_count": 31,
   "id": "02bfd909",
   "metadata": {},
   "outputs": [
    {
     "data": {
      "text/plain": [
       "5"
      ]
     },
     "execution_count": 31,
     "metadata": {},
     "output_type": "execute_result"
    }
   ],
   "source": [
    "#check - we are storing sum in another variable here \n",
    "addition = add(2,3)\n",
    "addition "
   ]
  },
  {
   "cell_type": "markdown",
   "id": "7ed39570",
   "metadata": {},
   "source": [
    "#### Example 4: using if else and loops with functions \n",
    "Write a function which returns odd numbers from the list else empty list"
   ]
  },
  {
   "cell_type": "code",
   "execution_count": 32,
   "id": "3d80509b",
   "metadata": {},
   "outputs": [],
   "source": [
    "def check_odd_numbers(list_num):\n",
    "    odd_num = []\n",
    "    \n",
    "    # iterate list by for loop\n",
    "    for x in list_num:\n",
    "        if x%2!=0:\n",
    "            odd_num.append(x)\n",
    "    return odd_num # notice indentation here "
   ]
  },
  {
   "cell_type": "code",
   "execution_count": 33,
   "id": "62d25aad",
   "metadata": {},
   "outputs": [
    {
     "data": {
      "text/plain": [
       "[1, 2, 3, 4, 5, 6, 7, 8, 9, 10, 11, 12, 13, 14, 15, 16, 17, 18, 19, 20]"
      ]
     },
     "execution_count": 33,
     "metadata": {},
     "output_type": "execute_result"
    }
   ],
   "source": [
    "# let check now \n",
    "# create a list \n",
    "# if you want to use list comprehension, it is advance level\n",
    "# a = [x for x in range(1,21)]\n",
    "a = []\n",
    "for x in range(1,21):\n",
    "    a.append(x)\n",
    "    \n",
    "a"
   ]
  },
  {
   "cell_type": "code",
   "execution_count": 36,
   "id": "7f0d706a",
   "metadata": {},
   "outputs": [
    {
     "name": "stdout",
     "output_type": "stream",
     "text": [
      "[1, 2, 3, 4, 5, 6, 7, 8, 9, 10, 11, 12, 13, 14, 15, 16, 17, 18, 19, 20, 21, 22, 23, 24, 25]\n"
     ]
    }
   ],
   "source": [
    "# List comprehension\n",
    "a = [x for x in range(1,26)]\n",
    "print(a)"
   ]
  },
  {
   "cell_type": "code",
   "execution_count": 37,
   "id": "886b5656",
   "metadata": {},
   "outputs": [
    {
     "data": {
      "text/plain": [
       "[1, 3, 5, 7, 9, 11, 13, 15, 17, 19, 21, 23, 25]"
      ]
     },
     "execution_count": 37,
     "metadata": {},
     "output_type": "execute_result"
    }
   ],
   "source": [
    "# check our function\n",
    "check_odd_numbers(a)"
   ]
  },
  {
   "cell_type": "markdown",
   "id": "8b86b8dc",
   "metadata": {},
   "source": [
    "Now we don't have to rewrite long code for checking if the number is odd or not, we will just call this function. \n",
    "\n",
    "## Note \n",
    "For your final assignment part related to market basket analysis, functions are really important as you will be calling functions most of the time.\n",
    "\n",
    "## Task for you \n",
    "Write a function which ask users to enter name of an item that they recently bought. Check if the item is in the list [\"Milk\", \"Butter\", \"Apple\"] and recommends a discount on Oranges. Else it prints \"Happy shopping with us!\""
   ]
  },
  {
   "cell_type": "code",
   "execution_count": null,
   "id": "084a278c",
   "metadata": {},
   "outputs": [],
   "source": []
  }
 ],
 "metadata": {
  "kernelspec": {
   "display_name": "Python 3 (ipykernel)",
   "language": "python",
   "name": "python3"
  },
  "language_info": {
   "codemirror_mode": {
    "name": "ipython",
    "version": 3
   },
   "file_extension": ".py",
   "mimetype": "text/x-python",
   "name": "python",
   "nbconvert_exporter": "python",
   "pygments_lexer": "ipython3",
   "version": "3.9.7"
  }
 },
 "nbformat": 4,
 "nbformat_minor": 5
}
