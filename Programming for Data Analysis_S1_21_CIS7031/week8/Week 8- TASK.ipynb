{
 "cells": [
  {
   "cell_type": "markdown",
   "metadata": {},
   "source": [
    "# Global Food & Agriculture Statistics\n",
    "Data Source: [Global Food Dataset from Kaggle](https://www.kaggle.com/unitednations/global-food-agriculture-statistics?select=fao_data_production_indices_data.csv)\n",
    "        \n"
   ]
  },
  {
   "cell_type": "raw",
   "metadata": {},
   "source": [
    "Name: Mohammad Aziz, Student Id: 20192233"
   ]
  },
  {
   "cell_type": "code",
   "execution_count": 1,
   "metadata": {},
   "outputs": [],
   "source": [
    "import pandas as pd\n",
    "import numpy as np\n",
    "import matplotlib.pyplot as plt\n",
    "%matplotlib inline\n"
   ]
  },
  {
   "cell_type": "code",
   "execution_count": 3,
   "metadata": {},
   "outputs": [],
   "source": [
    "df = pd.read_csv('fao_data_production_indices_data.csv')"
   ]
  },
  {
   "cell_type": "code",
   "execution_count": 4,
   "metadata": {},
   "outputs": [
    {
     "data": {
      "text/html": [
       "<div>\n",
       "<style scoped>\n",
       "    .dataframe tbody tr th:only-of-type {\n",
       "        vertical-align: middle;\n",
       "    }\n",
       "\n",
       "    .dataframe tbody tr th {\n",
       "        vertical-align: top;\n",
       "    }\n",
       "\n",
       "    .dataframe thead th {\n",
       "        text-align: right;\n",
       "    }\n",
       "</style>\n",
       "<table border=\"1\" class=\"dataframe\">\n",
       "  <thead>\n",
       "    <tr style=\"text-align: right;\">\n",
       "      <th></th>\n",
       "      <th>country_or_area</th>\n",
       "      <th>element_code</th>\n",
       "      <th>element</th>\n",
       "      <th>year</th>\n",
       "      <th>unit</th>\n",
       "      <th>value</th>\n",
       "      <th>value_footnotes</th>\n",
       "      <th>category</th>\n",
       "    </tr>\n",
       "  </thead>\n",
       "  <tbody>\n",
       "    <tr>\n",
       "      <th>0</th>\n",
       "      <td>Afghanistan</td>\n",
       "      <td>152</td>\n",
       "      <td>Gross Production 1999-2001 (1000 I$)</td>\n",
       "      <td>2007.0</td>\n",
       "      <td>1000 Int. $</td>\n",
       "      <td>2486910.0</td>\n",
       "      <td>A</td>\n",
       "      <td>agriculture_pin</td>\n",
       "    </tr>\n",
       "    <tr>\n",
       "      <th>1</th>\n",
       "      <td>Afghanistan</td>\n",
       "      <td>152</td>\n",
       "      <td>Gross Production 1999-2001 (1000 I$)</td>\n",
       "      <td>2006.0</td>\n",
       "      <td>1000 Int. $</td>\n",
       "      <td>2278516.0</td>\n",
       "      <td>A</td>\n",
       "      <td>agriculture_pin</td>\n",
       "    </tr>\n",
       "    <tr>\n",
       "      <th>2</th>\n",
       "      <td>Afghanistan</td>\n",
       "      <td>152</td>\n",
       "      <td>Gross Production 1999-2001 (1000 I$)</td>\n",
       "      <td>2005.0</td>\n",
       "      <td>1000 Int. $</td>\n",
       "      <td>2524097.0</td>\n",
       "      <td>A</td>\n",
       "      <td>agriculture_pin</td>\n",
       "    </tr>\n",
       "    <tr>\n",
       "      <th>3</th>\n",
       "      <td>Afghanistan</td>\n",
       "      <td>152</td>\n",
       "      <td>Gross Production 1999-2001 (1000 I$)</td>\n",
       "      <td>2004.0</td>\n",
       "      <td>1000 Int. $</td>\n",
       "      <td>2226346.0</td>\n",
       "      <td>A</td>\n",
       "      <td>agriculture_pin</td>\n",
       "    </tr>\n",
       "    <tr>\n",
       "      <th>4</th>\n",
       "      <td>Afghanistan</td>\n",
       "      <td>152</td>\n",
       "      <td>Gross Production 1999-2001 (1000 I$)</td>\n",
       "      <td>2003.0</td>\n",
       "      <td>1000 Int. $</td>\n",
       "      <td>2289434.0</td>\n",
       "      <td>A</td>\n",
       "      <td>agriculture_pin</td>\n",
       "    </tr>\n",
       "  </tbody>\n",
       "</table>\n",
       "</div>"
      ],
      "text/plain": [
       "  country_or_area element_code                               element    year  \\\n",
       "0     Afghanistan          152  Gross Production 1999-2001 (1000 I$)  2007.0   \n",
       "1     Afghanistan          152  Gross Production 1999-2001 (1000 I$)  2006.0   \n",
       "2     Afghanistan          152  Gross Production 1999-2001 (1000 I$)  2005.0   \n",
       "3     Afghanistan          152  Gross Production 1999-2001 (1000 I$)  2004.0   \n",
       "4     Afghanistan          152  Gross Production 1999-2001 (1000 I$)  2003.0   \n",
       "\n",
       "          unit      value value_footnotes         category  \n",
       "0  1000 Int. $  2486910.0              A   agriculture_pin  \n",
       "1  1000 Int. $  2278516.0              A   agriculture_pin  \n",
       "2  1000 Int. $  2524097.0              A   agriculture_pin  \n",
       "3  1000 Int. $  2226346.0              A   agriculture_pin  \n",
       "4  1000 Int. $  2289434.0              A   agriculture_pin  "
      ]
     },
     "execution_count": 4,
     "metadata": {},
     "output_type": "execute_result"
    }
   ],
   "source": [
    "df.head()"
   ]
  },
  {
   "cell_type": "code",
   "execution_count": null,
   "metadata": {},
   "outputs": [],
   "source": []
  },
  {
   "cell_type": "markdown",
   "metadata": {},
   "source": [
    "# TASK: Do we have missing data in this dataset if so how many? and for which features?"
   ]
  },
  {
   "cell_type": "code",
   "execution_count": 11,
   "metadata": {},
   "outputs": [
    {
     "data": {
      "text/plain": [
       "country_or_area     0\n",
       "element_code        0\n",
       "element            10\n",
       "year               10\n",
       "unit               10\n",
       "value              10\n",
       "value_footnotes    10\n",
       "category            0\n",
       "dtype: int64"
      ]
     },
     "execution_count": 11,
     "metadata": {},
     "output_type": "execute_result"
    }
   ],
   "source": [
    "df.isnull().sum()"
   ]
  },
  {
   "cell_type": "code",
   "execution_count": null,
   "metadata": {},
   "outputs": [],
   "source": [
    "## yes we have missing data"
   ]
  },
  {
   "cell_type": "code",
   "execution_count": 21,
   "metadata": {},
   "outputs": [
    {
     "name": "stdout",
     "output_type": "stream",
     "text": [
      "Total missing data is 50.\n"
     ]
    }
   ],
   "source": [
    "print(\"Total missing data is {}.\".format(sum(df.isnull().sum())))"
   ]
  },
  {
   "cell_type": "markdown",
   "metadata": {},
   "source": [
    "# TASK:  How many Unique Geographical locations are captured in this dataset"
   ]
  },
  {
   "cell_type": "code",
   "execution_count": 24,
   "metadata": {},
   "outputs": [
    {
     "name": "stdout",
     "output_type": "stream",
     "text": [
      "254\n"
     ]
    }
   ],
   "source": [
    "print(len(df['country_or_area'].unique()))"
   ]
  },
  {
   "cell_type": "markdown",
   "metadata": {},
   "source": [
    "# What are the Element codes for the following Geographical locations?:\n",
    "* Belgium\n",
    "* Africa +\n",
    "* Cayman Islands\n",
    "* Georgia\n",
    "* France"
   ]
  },
  {
   "cell_type": "code",
   "execution_count": null,
   "metadata": {},
   "outputs": [],
   "source": []
  },
  {
   "cell_type": "code",
   "execution_count": 138,
   "metadata": {},
   "outputs": [],
   "source": [
    "qwerty=df.loc[df[\"country_or_area\"].isin([\"Belgium\", \"Africa +\", \"Cayman Islands\", \"Georgia\", \"France\"]), [\"country_or_area\", \"element_code\"]]"
   ]
  },
  {
   "cell_type": "code",
   "execution_count": 140,
   "metadata": {},
   "outputs": [
    {
     "data": {
      "text/html": [
       "<div>\n",
       "<style scoped>\n",
       "    .dataframe tbody tr th:only-of-type {\n",
       "        vertical-align: middle;\n",
       "    }\n",
       "\n",
       "    .dataframe tbody tr th {\n",
       "        vertical-align: top;\n",
       "    }\n",
       "\n",
       "    .dataframe thead th {\n",
       "        text-align: right;\n",
       "    }\n",
       "</style>\n",
       "<table border=\"1\" class=\"dataframe\">\n",
       "  <thead>\n",
       "    <tr style=\"text-align: right;\">\n",
       "      <th></th>\n",
       "      <th>country_or_area</th>\n",
       "      <th>element_code</th>\n",
       "    </tr>\n",
       "  </thead>\n",
       "  <tbody>\n",
       "    <tr>\n",
       "      <th>282</th>\n",
       "      <td>Africa +</td>\n",
       "      <td>152</td>\n",
       "    </tr>\n",
       "    <tr>\n",
       "      <th>329</th>\n",
       "      <td>Africa +</td>\n",
       "      <td>154</td>\n",
       "    </tr>\n",
       "    <tr>\n",
       "      <th>376</th>\n",
       "      <td>Africa +</td>\n",
       "      <td>432</td>\n",
       "    </tr>\n",
       "    <tr>\n",
       "      <th>423</th>\n",
       "      <td>Africa +</td>\n",
       "      <td>434</td>\n",
       "    </tr>\n",
       "    <tr>\n",
       "      <th>470</th>\n",
       "      <td>Africa +</td>\n",
       "      <td>436</td>\n",
       "    </tr>\n",
       "    <tr>\n",
       "      <th>517</th>\n",
       "      <td>Africa +</td>\n",
       "      <td>438</td>\n",
       "    </tr>\n",
       "    <tr>\n",
       "      <th>5082</th>\n",
       "      <td>Belgium</td>\n",
       "      <td>152</td>\n",
       "    </tr>\n",
       "    <tr>\n",
       "      <th>5090</th>\n",
       "      <td>Belgium</td>\n",
       "      <td>154</td>\n",
       "    </tr>\n",
       "    <tr>\n",
       "      <th>5098</th>\n",
       "      <td>Belgium</td>\n",
       "      <td>432</td>\n",
       "    </tr>\n",
       "    <tr>\n",
       "      <th>5106</th>\n",
       "      <td>Belgium</td>\n",
       "      <td>434</td>\n",
       "    </tr>\n",
       "    <tr>\n",
       "      <th>5114</th>\n",
       "      <td>Belgium</td>\n",
       "      <td>436</td>\n",
       "    </tr>\n",
       "    <tr>\n",
       "      <th>5122</th>\n",
       "      <td>Belgium</td>\n",
       "      <td>438</td>\n",
       "    </tr>\n",
       "    <tr>\n",
       "      <th>10254</th>\n",
       "      <td>Cayman Islands</td>\n",
       "      <td>152</td>\n",
       "    </tr>\n",
       "    <tr>\n",
       "      <th>10301</th>\n",
       "      <td>Cayman Islands</td>\n",
       "      <td>154</td>\n",
       "    </tr>\n",
       "    <tr>\n",
       "      <th>10348</th>\n",
       "      <td>Cayman Islands</td>\n",
       "      <td>432</td>\n",
       "    </tr>\n",
       "    <tr>\n",
       "      <th>10395</th>\n",
       "      <td>Cayman Islands</td>\n",
       "      <td>434</td>\n",
       "    </tr>\n",
       "    <tr>\n",
       "      <th>10442</th>\n",
       "      <td>Cayman Islands</td>\n",
       "      <td>436</td>\n",
       "    </tr>\n",
       "    <tr>\n",
       "      <th>10489</th>\n",
       "      <td>Cayman Islands</td>\n",
       "      <td>438</td>\n",
       "    </tr>\n",
       "    <tr>\n",
       "      <th>20150</th>\n",
       "      <td>France</td>\n",
       "      <td>152</td>\n",
       "    </tr>\n",
       "    <tr>\n",
       "      <th>20197</th>\n",
       "      <td>France</td>\n",
       "      <td>154</td>\n",
       "    </tr>\n",
       "    <tr>\n",
       "      <th>20244</th>\n",
       "      <td>France</td>\n",
       "      <td>432</td>\n",
       "    </tr>\n",
       "    <tr>\n",
       "      <th>20291</th>\n",
       "      <td>France</td>\n",
       "      <td>434</td>\n",
       "    </tr>\n",
       "    <tr>\n",
       "      <th>20338</th>\n",
       "      <td>France</td>\n",
       "      <td>436</td>\n",
       "    </tr>\n",
       "    <tr>\n",
       "      <th>20385</th>\n",
       "      <td>France</td>\n",
       "      <td>438</td>\n",
       "    </tr>\n",
       "    <tr>\n",
       "      <th>21560</th>\n",
       "      <td>Georgia</td>\n",
       "      <td>152</td>\n",
       "    </tr>\n",
       "    <tr>\n",
       "      <th>21576</th>\n",
       "      <td>Georgia</td>\n",
       "      <td>154</td>\n",
       "    </tr>\n",
       "    <tr>\n",
       "      <th>21592</th>\n",
       "      <td>Georgia</td>\n",
       "      <td>432</td>\n",
       "    </tr>\n",
       "    <tr>\n",
       "      <th>21608</th>\n",
       "      <td>Georgia</td>\n",
       "      <td>434</td>\n",
       "    </tr>\n",
       "    <tr>\n",
       "      <th>21624</th>\n",
       "      <td>Georgia</td>\n",
       "      <td>436</td>\n",
       "    </tr>\n",
       "    <tr>\n",
       "      <th>21640</th>\n",
       "      <td>Georgia</td>\n",
       "      <td>438</td>\n",
       "    </tr>\n",
       "  </tbody>\n",
       "</table>\n",
       "</div>"
      ],
      "text/plain": [
       "      country_or_area element_code\n",
       "282          Africa +          152\n",
       "329          Africa +          154\n",
       "376          Africa +          432\n",
       "423          Africa +          434\n",
       "470          Africa +          436\n",
       "517          Africa +          438\n",
       "5082          Belgium          152\n",
       "5090          Belgium          154\n",
       "5098          Belgium          432\n",
       "5106          Belgium          434\n",
       "5114          Belgium          436\n",
       "5122          Belgium          438\n",
       "10254  Cayman Islands          152\n",
       "10301  Cayman Islands          154\n",
       "10348  Cayman Islands          432\n",
       "10395  Cayman Islands          434\n",
       "10442  Cayman Islands          436\n",
       "10489  Cayman Islands          438\n",
       "20150          France          152\n",
       "20197          France          154\n",
       "20244          France          432\n",
       "20291          France          434\n",
       "20338          France          436\n",
       "20385          France          438\n",
       "21560         Georgia          152\n",
       "21576         Georgia          154\n",
       "21592         Georgia          432\n",
       "21608         Georgia          434\n",
       "21624         Georgia          436\n",
       "21640         Georgia          438"
      ]
     },
     "execution_count": 140,
     "metadata": {},
     "output_type": "execute_result"
    }
   ],
   "source": [
    "qwerty.drop_duplicates()"
   ]
  },
  {
   "cell_type": "markdown",
   "metadata": {},
   "source": [
    "# How many categories do we have? and what are they?"
   ]
  },
  {
   "cell_type": "code",
   "execution_count": 109,
   "metadata": {},
   "outputs": [
    {
     "name": "stdout",
     "output_type": "stream",
     "text": [
      "Thet are total 5\n"
     ]
    },
    {
     "data": {
      "text/plain": [
       "array(['agriculture_pin', 'crops_pin', 'food_pin', 'livestock_pin',\n",
       "       'non_food_pin'], dtype=object)"
      ]
     },
     "execution_count": 109,
     "metadata": {},
     "output_type": "execute_result"
    }
   ],
   "source": [
    "print(\"Thet are total\",len(df[\"category\"].unique()))\n",
    "df.category.unique()"
   ]
  },
  {
   "cell_type": "code",
   "execution_count": null,
   "metadata": {},
   "outputs": [],
   "source": []
  },
  {
   "cell_type": "code",
   "execution_count": null,
   "metadata": {},
   "outputs": [],
   "source": []
  },
  {
   "cell_type": "markdown",
   "metadata": {},
   "source": [
    "# What is the total `value` of `livestock` in France?\n",
    ">hint `.sum()`"
   ]
  },
  {
   "cell_type": "code",
   "execution_count": 63,
   "metadata": {},
   "outputs": [],
   "source": [
    "a=df.loc[(df[\"country_or_area\"]==\"France\") & (df[\"category\"]== \"livestock_pin\"), [\"country_or_area\", \"category\", \"value\"]]"
   ]
  },
  {
   "cell_type": "code",
   "execution_count": 71,
   "metadata": {},
   "outputs": [
    {
     "name": "stdout",
     "output_type": "stream",
     "text": [
      "The value of livestock in france is 1404737251.0\n"
     ]
    }
   ],
   "source": [
    "print(\"The value of livestock in france is {}\".format(sum(a[\"value\"])))"
   ]
  },
  {
   "cell_type": "code",
   "execution_count": null,
   "metadata": {},
   "outputs": [],
   "source": []
  },
  {
   "cell_type": "markdown",
   "metadata": {},
   "source": [
    "# Explore the data"
   ]
  },
  {
   "cell_type": "code",
   "execution_count": null,
   "metadata": {},
   "outputs": [],
   "source": []
  }
 ],
 "metadata": {
  "kernelspec": {
   "display_name": "Python 3",
   "language": "python",
   "name": "python3"
  },
  "language_info": {
   "codemirror_mode": {
    "name": "ipython",
    "version": 3
   },
   "file_extension": ".py",
   "mimetype": "text/x-python",
   "name": "python",
   "nbconvert_exporter": "python",
   "pygments_lexer": "ipython3",
   "version": "3.7.6"
  }
 },
 "nbformat": 4,
 "nbformat_minor": 5
}
