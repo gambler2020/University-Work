{
 "cells": [
  {
   "cell_type": "markdown",
   "metadata": {},
   "source": [
    "#  TASK\n",
    "\n",
    "1. Create a Variable called `Animals`\n",
    "2. Created another Variable called `dogs`\n",
    "3. Create another variable called `cats`\n",
    "___________\n",
    "4. Assign `10` to dogs as integers\n",
    "5. Assign `5` to cats as integers\n",
    "___________\n",
    "6. Let `Animals` equal the sum total of cats and dogs\n",
    "____________\n",
    "7. Print everything above in a sentence form that allows you to input the variables you created. \n",
    "> For example... `I have \"X\" cats and \"X\" dogs, which means I have a total of \"X\" animals in my Cardiff Children Zoo`."
   ]
  },
  {
   "cell_type": "code",
   "execution_count": 2,
   "metadata": {},
   "outputs": [],
   "source": [
    "dogs=10\n",
    "cats=5\n",
    "Animals=dogs+cats"
   ]
  },
  {
   "cell_type": "code",
   "execution_count": 5,
   "metadata": {},
   "outputs": [
    {
     "name": "stdout",
     "output_type": "stream",
     "text": [
      "I have 5 cats and 10 dogs, which means I have a total of 15 animals in my Cardiff Children Zoo.\n"
     ]
    }
   ],
   "source": [
    "print(\"I have {} cats and {} dogs, which means I have a total of {} animals in my Cardiff Children Zoo.\".format(cats, dogs, Animals))"
   ]
  },
  {
   "cell_type": "code",
   "execution_count": null,
   "metadata": {},
   "outputs": [],
   "source": []
  }
 ],
 "metadata": {
  "kernelspec": {
   "display_name": "Python 3",
   "language": "python",
   "name": "python3"
  },
  "language_info": {
   "codemirror_mode": {
    "name": "ipython",
    "version": 3
   },
   "file_extension": ".py",
   "mimetype": "text/x-python",
   "name": "python",
   "nbconvert_exporter": "python",
   "pygments_lexer": "ipython3",
   "version": "3.7.6"
  }
 },
 "nbformat": 4,
 "nbformat_minor": 2
}
